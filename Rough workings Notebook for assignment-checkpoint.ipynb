{
 "cells": [
  {
   "cell_type": "markdown",
   "metadata": {},
   "source": [
    "## Workings for analysis of the Anscombe's dataset assignment"
   ]
  },
  {
   "cell_type": "code",
   "execution_count": 21,
   "metadata": {},
   "outputs": [],
   "source": [
    "# Importing packages thought to be required for analysis. \n",
    "# Packages not required can be removed later for final notebook.\n",
    "\n",
    "import matplotlib.pyplot as plt\n",
    "import seaborn as sns\n",
    "import pandas as pd\n",
    "import numpy as np"
   ]
  },
  {
   "cell_type": "markdown",
   "metadata": {},
   "source": [
    "The cell below shows that the dataset has been defined as df and loaded in to the terminal correctly as it is able to describe each of the columns and count the number of observations in each row.\n",
    "It indicates that there are 11 samples contained in each column meaning no changes to the dataset are required before the analysis. We know this is correct as in Anscombe's original work it stated that the number of observations was 11.\n"
   ]
  },
  {
   "cell_type": "code",
   "execution_count": 26,
   "metadata": {},
   "outputs": [
    {
     "name": "stdout",
     "output_type": "stream",
     "text": [
      "              x1         x2         x3         x4         y1         y2  \\\n",
      "count  11.000000  11.000000  11.000000  11.000000  11.000000  11.000000   \n",
      "mean    9.000000   9.000000   9.000000   9.000000   7.500909   7.500909   \n",
      "std     3.316625   3.316625   3.316625   3.316625   2.031568   2.031657   \n",
      "min     4.000000   4.000000   4.000000   8.000000   4.260000   3.100000   \n",
      "25%     6.500000   6.500000   6.500000   8.000000   6.315000   6.695000   \n",
      "50%     9.000000   9.000000   9.000000   8.000000   7.580000   8.140000   \n",
      "75%    11.500000  11.500000  11.500000   8.000000   8.570000   8.950000   \n",
      "max    14.000000  14.000000  14.000000  19.000000  10.840000   9.260000   \n",
      "\n",
      "              y3         y4  \n",
      "count  11.000000  11.000000  \n",
      "mean    7.500000   7.500909  \n",
      "std     2.030424   2.030579  \n",
      "min     5.390000   5.250000  \n",
      "25%     6.250000   6.170000  \n",
      "50%     7.110000   7.040000  \n",
      "75%     7.980000   8.190000  \n",
      "max    12.740000  12.500000  \n",
      "x1    11\n",
      "x2    11\n",
      "x3    11\n",
      "x4    11\n",
      "y1    11\n",
      "y2    11\n",
      "y3    11\n",
      "y4    11\n",
      "dtype: int64\n"
     ]
    }
   ],
   "source": [
    "# Print the characteristics for each column contained in the Anscombe's data set\n",
    "\n",
    "df = pd.read_csv('anscombe.csv', usecols=['x1', 'x2', 'x3', 'x4', 'y1', 'y2', 'y3','y4'])\n",
    "print(df.describe())\n",
    "print(df.count()) \n",
    "\n"
   ]
  },
  {
   "cell_type": "code",
   "execution_count": 28,
   "metadata": {},
   "outputs": [
    {
     "ename": "SyntaxError",
     "evalue": "invalid syntax (<ipython-input-28-34bdf0123782>, line 3)",
     "output_type": "error",
     "traceback": [
      "\u001b[1;36m  File \u001b[1;32m\"<ipython-input-28-34bdf0123782>\"\u001b[1;36m, line \u001b[1;32m3\u001b[0m\n\u001b[1;33m    x = df(:,0,1,2,3)\u001b[0m\n\u001b[1;37m           ^\u001b[0m\n\u001b[1;31mSyntaxError\u001b[0m\u001b[1;31m:\u001b[0m invalid syntax\n"
     ]
    }
   ],
   "source": [
    "#Scatter plot of data from columns\n",
    "df2 = sns.load_dataset(\"anscombe\")\n",
    "x = df(:,0,1,2,3)\n",
    "y = (:,4,5,6,7)\n",
    "\n",
    "sns.set_style(\"whitegrid\")\n",
    "plt.scatter(x,y)"
   ]
  },
  {
   "cell_type": "markdown",
   "metadata": {},
   "source": [
    "2. Calculation of the mean of the x Values in the dataset"
   ]
  },
  {
   "cell_type": "code",
   "execution_count": 42,
   "metadata": {},
   "outputs": [
    {
     "name": "stdout",
     "output_type": "stream",
     "text": [
      "The mean of the X values in the dataset is 9.0\n"
     ]
    }
   ],
   "source": [
    "#MeanX = np.mean(x)\n",
    "#print(MeanX)\n",
    "# Code lines above printed incorrect value as it was not using all x values spread across the 4 x columns in the dataset.\n",
    "\n",
    "# Code lines below combine all x value containing columns from the dataset into an array and calculates the mean which is correct as per the original analysis by Anscombe as the value computes to 9.\n",
    "\n",
    "x2 = df[['x1', 'x2', 'x3', 'x4']].values\n",
    "Meanx2 = np.mean(x2)\n",
    "print('The mean of the X values in the dataset is', Meanx2)"
   ]
  },
  {
   "cell_type": "code",
   "execution_count": 41,
   "metadata": {},
   "outputs": [
    {
     "name": "stdout",
     "output_type": "stream",
     "text": [
      "The mean of the Y values in the dataset is 7.500681818181818\n",
      "This value can be rounded to 7.5\n"
     ]
    }
   ],
   "source": [
    "# Calculating the mean value of the y values\n",
    "\n",
    "y2 = df[['y1', 'y2', 'y3', 'y4']].values\n",
    "Meany2 = float (np.mean(y2))\n",
    "print('The mean of the Y values in the dataset is', Meany2)\n",
    "\n",
    "# Rounding of decimal places of the answer - to be investigated further to see if this can be printed to this value in previous print statement\n",
    "# Calculation is correct as per original study.\n",
    "\n",
    "print('This value can be rounded to', round(7.501, 2))"
   ]
  },
  {
   "cell_type": "code",
   "execution_count": null,
   "metadata": {},
   "outputs": [],
   "source": []
  }
 ],
 "metadata": {
  "kernelspec": {
   "display_name": "Python 3",
   "language": "python",
   "name": "python3"
  },
  "language_info": {
   "codemirror_mode": {
    "name": "ipython",
    "version": 3
   },
   "file_extension": ".py",
   "mimetype": "text/x-python",
   "name": "python",
   "nbconvert_exporter": "python",
   "pygments_lexer": "ipython3",
   "version": "3.7.0"
  }
 },
 "nbformat": 4,
 "nbformat_minor": 2
}
